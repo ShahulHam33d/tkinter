{
 "cells": [
  {
   "cell_type": "code",
   "execution_count": 9,
   "metadata": {},
   "outputs": [
    {
     "name": "stdout",
     "output_type": "stream",
     "text": [
      "login successfull\n"
     ]
    }
   ],
   "source": [
    "from tkinter import *\n",
    "import tkinter as tk\n",
    "\n",
    "window = Tk()\n",
    "\n",
    "window.geometry(\"500x600\")\n",
    "u,p = StringVar(),StringVar()\n",
    "\n",
    "def check_data():\n",
    "    if u.get()==\"shahul\" and p.get()==\"clomet3\":\n",
    "        print(\"login successfull\")\n",
    "        tk.Label(window,text = \"login Successful\").grid(row=3,column=1,padx=10,pady=10)\n",
    "    else:\n",
    "        print(\"check your password or username\")\n",
    "        tk.Label(window,text = \"check your password or username\").grid(row=3,column=1,padx=10,pady=10)    \n",
    "tk.Label(window,text=\"username:\").grid(row=0,column=0,padx=10,pady=10)\n",
    "tk.Label(window,text=\"password:\").grid(row=1,column=0,padx=10,pady=10)\n",
    "tk.Entry(window,textvariable=u).grid(row=0,column=1,padx=10,pady=10)\n",
    "tk.Entry(window,textvariable=p,show=\"*\").grid(row=1,column=1,padx=10,pady=10)\n",
    "\n",
    "tk.Button(window,text=\"login\",command=check_data).grid(row=2,column=1,padx=10,pady=10)\n",
    "window.mainloop()"
   ]
  }
 ],
 "metadata": {
  "kernelspec": {
   "display_name": "Python 3",
   "language": "python",
   "name": "python3"
  },
  "language_info": {
   "codemirror_mode": {
    "name": "ipython",
    "version": 3
   },
   "file_extension": ".py",
   "mimetype": "text/x-python",
   "name": "python",
   "nbconvert_exporter": "python",
   "pygments_lexer": "ipython3",
   "version": "3.8.0"
  }
 },
 "nbformat": 4,
 "nbformat_minor": 4
}
